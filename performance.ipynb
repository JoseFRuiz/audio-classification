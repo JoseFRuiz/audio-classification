{
 "cells": [
  {
   "cell_type": "markdown",
   "metadata": {},
   "source": [
    "# Peformance\n",
    "\n",
    "This notebook shows the training and test performance obtain across different experiments"
   ]
  },
  {
   "cell_type": "code",
   "execution_count": 1,
   "metadata": {},
   "outputs": [],
   "source": [
    "import os\n",
    "import pandas as pd\n",
    "import matplotlib.pyplot as plt\n"
   ]
  },
  {
   "cell_type": "code",
   "execution_count": 30,
   "metadata": {},
   "outputs": [],
   "source": [
    "exp_name = \"gru_003\"\n",
    "\n",
    "pathfile = os.path.join(exp_name,\"metrics\",\"version_0\",\"metrics.csv\")\n",
    "df = pd.read_csv(pathfile)"
   ]
  },
  {
   "cell_type": "code",
   "execution_count": 31,
   "metadata": {},
   "outputs": [],
   "source": [
    "# Create a copy of the DataFrame\n",
    "df_clean = df.copy()\n",
    "\n",
    "# For rows with validation metrics, fill in the training loss from the other row of the same epoch\n",
    "for epoch in df_clean[df_clean['val_auc'].notna()]['epoch'].unique():\n",
    "    # Get the training loss for this epoch\n",
    "    train_loss = df_clean[(df_clean['epoch'] == epoch) & (df_clean['train_loss'].notna())]['train_loss'].iloc[0]\n",
    "    # Update the row with validation metrics\n",
    "    df_clean.loc[(df_clean['epoch'] == epoch) & (df_clean['val_auc'].notna()), 'train_loss'] = train_loss\n",
    "\n",
    "# Remove duplicate epochs, keeping the row with validation metrics\n",
    "df_clean = df_clean.sort_values('val_auc', na_position='first').drop_duplicates(subset=['epoch'], keep='last')\n",
    "\n",
    "# Sort by epoch\n",
    "df_clean = df_clean.sort_values('epoch')"
   ]
  },
  {
   "cell_type": "code",
   "execution_count": 34,
   "metadata": {},
   "outputs": [
    {
     "data": {
      "text/html": [
       "<div>\n",
       "<style scoped>\n",
       "    .dataframe tbody tr th:only-of-type {\n",
       "        vertical-align: middle;\n",
       "    }\n",
       "\n",
       "    .dataframe tbody tr th {\n",
       "        vertical-align: top;\n",
       "    }\n",
       "\n",
       "    .dataframe thead th {\n",
       "        text-align: right;\n",
       "    }\n",
       "</style>\n",
       "<table border=\"1\" class=\"dataframe\">\n",
       "  <thead>\n",
       "    <tr style=\"text-align: right;\">\n",
       "      <th></th>\n",
       "      <th>epoch</th>\n",
       "      <th>step</th>\n",
       "      <th>train_loss</th>\n",
       "      <th>val_auc</th>\n",
       "      <th>val_f1</th>\n",
       "      <th>val_loss</th>\n",
       "      <th>val_map</th>\n",
       "    </tr>\n",
       "  </thead>\n",
       "  <tbody>\n",
       "    <tr>\n",
       "      <th>9</th>\n",
       "      <td>9</td>\n",
       "      <td>1569</td>\n",
       "      <td>0.053207</td>\n",
       "      <td>0.331069</td>\n",
       "      <td>0.006554</td>\n",
       "      <td>0.052290</td>\n",
       "      <td>0.072361</td>\n",
       "    </tr>\n",
       "    <tr>\n",
       "      <th>20</th>\n",
       "      <td>19</td>\n",
       "      <td>3139</td>\n",
       "      <td>0.051985</td>\n",
       "      <td>0.336325</td>\n",
       "      <td>0.005788</td>\n",
       "      <td>0.051203</td>\n",
       "      <td>0.075572</td>\n",
       "    </tr>\n",
       "    <tr>\n",
       "      <th>31</th>\n",
       "      <td>29</td>\n",
       "      <td>4709</td>\n",
       "      <td>0.051508</td>\n",
       "      <td>0.342490</td>\n",
       "      <td>0.008307</td>\n",
       "      <td>0.050204</td>\n",
       "      <td>0.079153</td>\n",
       "    </tr>\n",
       "    <tr>\n",
       "      <th>42</th>\n",
       "      <td>39</td>\n",
       "      <td>6279</td>\n",
       "      <td>0.050991</td>\n",
       "      <td>0.344571</td>\n",
       "      <td>0.008420</td>\n",
       "      <td>0.050253</td>\n",
       "      <td>0.083434</td>\n",
       "    </tr>\n",
       "    <tr>\n",
       "      <th>53</th>\n",
       "      <td>49</td>\n",
       "      <td>7849</td>\n",
       "      <td>0.050139</td>\n",
       "      <td>0.353795</td>\n",
       "      <td>0.009700</td>\n",
       "      <td>0.049070</td>\n",
       "      <td>0.093778</td>\n",
       "    </tr>\n",
       "    <tr>\n",
       "      <th>64</th>\n",
       "      <td>59</td>\n",
       "      <td>9419</td>\n",
       "      <td>0.049735</td>\n",
       "      <td>0.354917</td>\n",
       "      <td>0.010278</td>\n",
       "      <td>0.049163</td>\n",
       "      <td>0.095398</td>\n",
       "    </tr>\n",
       "    <tr>\n",
       "      <th>75</th>\n",
       "      <td>69</td>\n",
       "      <td>10989</td>\n",
       "      <td>0.049466</td>\n",
       "      <td>0.355988</td>\n",
       "      <td>0.013584</td>\n",
       "      <td>0.049102</td>\n",
       "      <td>0.097673</td>\n",
       "    </tr>\n",
       "    <tr>\n",
       "      <th>86</th>\n",
       "      <td>79</td>\n",
       "      <td>12559</td>\n",
       "      <td>0.049409</td>\n",
       "      <td>0.358460</td>\n",
       "      <td>0.012979</td>\n",
       "      <td>0.048438</td>\n",
       "      <td>0.101404</td>\n",
       "    </tr>\n",
       "    <tr>\n",
       "      <th>97</th>\n",
       "      <td>89</td>\n",
       "      <td>14129</td>\n",
       "      <td>0.049230</td>\n",
       "      <td>0.356676</td>\n",
       "      <td>0.013541</td>\n",
       "      <td>0.048860</td>\n",
       "      <td>0.098663</td>\n",
       "    </tr>\n",
       "    <tr>\n",
       "      <th>108</th>\n",
       "      <td>99</td>\n",
       "      <td>15699</td>\n",
       "      <td>0.049124</td>\n",
       "      <td>0.358391</td>\n",
       "      <td>0.012180</td>\n",
       "      <td>0.049162</td>\n",
       "      <td>0.101742</td>\n",
       "    </tr>\n",
       "  </tbody>\n",
       "</table>\n",
       "</div>"
      ],
      "text/plain": [
       "     epoch   step  train_loss   val_auc    val_f1  val_loss   val_map\n",
       "9        9   1569    0.053207  0.331069  0.006554  0.052290  0.072361\n",
       "20      19   3139    0.051985  0.336325  0.005788  0.051203  0.075572\n",
       "31      29   4709    0.051508  0.342490  0.008307  0.050204  0.079153\n",
       "42      39   6279    0.050991  0.344571  0.008420  0.050253  0.083434\n",
       "53      49   7849    0.050139  0.353795  0.009700  0.049070  0.093778\n",
       "64      59   9419    0.049735  0.354917  0.010278  0.049163  0.095398\n",
       "75      69  10989    0.049466  0.355988  0.013584  0.049102  0.097673\n",
       "86      79  12559    0.049409  0.358460  0.012979  0.048438  0.101404\n",
       "97      89  14129    0.049230  0.356676  0.013541  0.048860  0.098663\n",
       "108     99  15699    0.049124  0.358391  0.012180  0.049162  0.101742"
      ]
     },
     "execution_count": 34,
     "metadata": {},
     "output_type": "execute_result"
    }
   ],
   "source": [
    "df_valid_metrics = df_clean.loc[df_clean['val_auc'].notna()]\n",
    "df_valid_metrics"
   ]
  },
  {
   "cell_type": "code",
   "execution_count": 35,
   "metadata": {},
   "outputs": [
    {
     "data": {
      "text/plain": [
       "<matplotlib.legend.Legend at 0x187fc81c4c0>"
      ]
     },
     "execution_count": 35,
     "metadata": {},
     "output_type": "execute_result"
    },
    {
     "data": {
      "image/png": "[encoded data removed]",
      "text/plain": [
       "<Figure size 640x480 with 1 Axes>"
      ]
     },
     "metadata": {},
     "output_type": "display_data"
    }
   ],
   "source": [
    "plt.figure()\n",
    "plt.plot(df_valid_metrics[\"epoch\"], df_valid_metrics[\"train_loss\"], label=\"train_loss\")\n",
    "plt.plot(df_valid_metrics[\"epoch\"], df_valid_metrics[\"val_loss\"], label=\"val_loss\")\n",
    "plt.legend()"
   ]
  }
 ],
 "metadata": {
  "kernelspec": {
   "display_name": "audio-classification",
   "language": "python",
   "name": "python3"
  },
  "language_info": {
   "codemirror_mode": {
    "name": "ipython",
    "version": 3
   },
   "file_extension": ".py",
   "mimetype": "text/x-python",
   "name": "python",
   "nbconvert_exporter": "python",
   "pygments_lexer": "ipython3",
   "version": "3.8.20"
  }
 },
 "nbformat": 4,
 "nbformat_minor": 2
}
